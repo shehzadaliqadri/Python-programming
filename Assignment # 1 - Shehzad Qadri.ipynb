{
 "cells": [
  {
   "cell_type": "code",
   "execution_count": 1,
   "metadata": {},
   "outputs": [
    {
     "name": "stdout",
     "output_type": "stream",
     "text": [
      "Twinkle, twinkle, little star,\n",
      "      How I wonder what you are!\n",
      "            Up above the world so high,\n",
      "            Like a diamond in the sky.\n",
      "Twinkle, twinkle, little star,\n",
      "      How I wonder what you are!\n",
      "\n"
     ]
    }
   ],
   "source": [
    "arr1 = [\"Twinkle, twinkle, little star,\",\n",
    "    \"How I wonder what you are!\",\n",
    "    \"Up above the world so high,\",\n",
    "    \"Like a diamond in the sky.\"]\n",
    "arr2 = [\"\\n\" , \"      \" , \"            \"]\n",
    "\n",
    "print(arr1[0]+arr2[0]+arr2[1]+\n",
    "      arr1[1]+arr2[0]+arr2[2]+\n",
    "      arr1[2]+arr2[0]+arr2[2]+\n",
    "      arr1[3]+arr2[0]+\n",
    "      arr1[0]+arr2[0]+arr2[1]+\n",
    "      arr1[1]+arr2[0])"
   ]
  },
  {
   "cell_type": "code",
   "execution_count": 2,
   "metadata": {},
   "outputs": [
    {
     "name": "stdout",
     "output_type": "stream",
     "text": [
      "3.7.4 (default, Aug  9 2019, 18:34:13) [MSC v.1915 64 bit (AMD64)]\n"
     ]
    }
   ],
   "source": [
    "import sys\n",
    "print(sys.version)"
   ]
  },
  {
   "cell_type": "code",
   "execution_count": 3,
   "metadata": {},
   "outputs": [
    {
     "name": "stdout",
     "output_type": "stream",
     "text": [
      "2019-11-06 16:18:35.738104\n"
     ]
    }
   ],
   "source": [
    "from datetime import datetime\n",
    "print(datetime.now())"
   ]
  },
  {
   "cell_type": "code",
   "execution_count": 4,
   "metadata": {},
   "outputs": [
    {
     "name": "stdout",
     "output_type": "stream",
     "text": [
      "Input the radius of the circle : 6\n",
      "The area of the circle with radius 6.0 is: 113.09733552923255\n"
     ]
    }
   ],
   "source": [
    "from math import pi\n",
    "r = float(input(\"Input the radius of the circle : \"))\n",
    "print(\"The area of the circle with radius \" + str(r) + \" is: \" + str(pi * r**2))"
   ]
  },
  {
   "cell_type": "code",
   "execution_count": 5,
   "metadata": {},
   "outputs": [
    {
     "name": "stdout",
     "output_type": "stream",
     "text": [
      "Input your First Name : Shehzad\n",
      "Input your Last Name : Qadri\n",
      "Qadri Shehzad\n"
     ]
    }
   ],
   "source": [
    "first_name = input(\"Input your First Name : \")\n",
    "last_name  = input(\"Input your Last Name : \")\n",
    "print ( last_name + \" \" + first_name)"
   ]
  },
  {
   "cell_type": "code",
   "execution_count": 6,
   "metadata": {},
   "outputs": [
    {
     "name": "stdout",
     "output_type": "stream",
     "text": [
      "Type a number      : 10\n",
      "Type another number: 20\n",
      "Sum of 10 + 20 = 30\n"
     ]
    }
   ],
   "source": [
    "first_num = int(input(\"Type a number      : \"))\n",
    "last_num = int(input(\"Type another number: \"))\n",
    "print(\"Sum of \" + str(first_num) + \" + \" + str(last_num) + \" = \" + str(first_num+last_num))"
   ]
  },
  {
   "cell_type": "code",
   "execution_count": null,
   "metadata": {},
   "outputs": [],
   "source": []
  }
 ],
 "metadata": {
  "kernelspec": {
   "display_name": "Python 3",
   "language": "python",
   "name": "python3"
  },
  "language_info": {
   "codemirror_mode": {
    "name": "ipython",
    "version": 3
   },
   "file_extension": ".py",
   "mimetype": "text/x-python",
   "name": "python",
   "nbconvert_exporter": "python",
   "pygments_lexer": "ipython3",
   "version": "3.7.4"
  }
 },
 "nbformat": 4,
 "nbformat_minor": 2
}
