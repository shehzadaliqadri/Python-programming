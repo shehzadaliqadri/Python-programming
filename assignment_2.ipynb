{
 "cells": [
  {
   "cell_type": "code",
   "execution_count": 1,
   "metadata": {},
   "outputs": [
    {
     "name": "stdout",
     "output_type": "stream",
     "text": [
      "Please enter 5 subject that will be asked through input: \n",
      "\n",
      "Enter first subject marks: 59\n",
      "Enter second subject marks: 93\n",
      "Enter third subject marks: 68\n",
      "Enter fourth subject marks: 82\n",
      "Enter fifth subject marks: 70\n",
      "\n",
      "Your total marks is: 372 out of 500.\n",
      "\n",
      "You have passed with \"A\" Grade, Your Percentage is : 74.40%\n"
     ]
    }
   ],
   "source": [
    "print(\"Please enter 5 subject that will be asked through input: \\n\")\n",
    "subj_1 = int(input(\"Enter first subject marks: \"))\n",
    "subj_2 = int(input(\"Enter second subject marks: \"))\n",
    "subj_3 = int(input(\"Enter third subject marks: \")) \n",
    "subj_4 = int(input(\"Enter fourth subject marks: \")) \n",
    "subj_5 = int(input(\"Enter fifth subject marks: \"))\n",
    "\n",
    "grand_total = subj_1 + subj_2 + subj_3 + subj_4 + subj_5 \n",
    "\n",
    "marks_obtained = 500 \n",
    "\n",
    "percentage = grand_total / marks_obtained * 100\n",
    "\n",
    "percentage1 = (\"{0:.2f}\".format(percentage))\n",
    "str_percent = percentage1\n",
    "str_GT = str(grand_total)\n",
    "str_MB = str(marks_obtained)\n",
    "\n",
    "print(\"\\nYour total marks is: \" + str_GT + \" out of \" + str_MB + \".\\n\" )\n",
    "if percentage >= 80 and percentage <= 100:\n",
    "    print(\"You have passed with \\\"A+\\\" Grade, Your Percentage is : \" + str_percent + \"%\")\n",
    "elif percentage >= 70 and percentage < 80:\n",
    "    print(\"You have passed with \\\"A\\\" Grade, Your Percentage is : \" + str_percent + \"%\")\n",
    "elif percentage >= 60 and percentage < 70:\n",
    "    print(\"You have passed with \\\"B\\\" Grade, Your Percentage is : \" + str_percent + \"%\")\n",
    "elif percentage >= 50 and percentage < 60:\n",
    "    print(\"You have passed with \\\"C\\\" Grade, Your Percentage is : \" + str_percent + \"%\")\n",
    "elif percentage >= 40 and percentage < 50:\n",
    "    print(\"You have passed with \\\"D\\\" Grade, Your Percentage is : \" + str_percent + \"%\")\n",
    "else :\n",
    "    print(\"You\\'re failed, Better luck next time. :)\")"
   ]
  },
  {
   "cell_type": "code",
   "execution_count": 2,
   "metadata": {},
   "outputs": [
    {
     "name": "stdout",
     "output_type": "stream",
     "text": [
      "Please input your number: 1\n",
      "1 is odd number.\n",
      "\n",
      "Type no if you want to quit:\n",
      "\n",
      "Please input your number: 2\n",
      "2 is even number.\n",
      "\n",
      "Type no if you want to quit:\n",
      "\n",
      "Please input your number: 3\n",
      "3 is odd number.\n",
      "\n",
      "Type no if you want to quit:\n",
      "\n",
      "Please input your number: 4\n",
      "4 is even number.\n",
      "\n",
      "Type no if you want to quit:\n",
      "\n",
      "Please input your number: 5\n",
      "5 is odd number.\n",
      "\n",
      "Type no if you want to quit:\n",
      "\n",
      "Please input your number: no\n",
      "\n",
      "Thanks for using our Even/Odd checking service. :) \n",
      "\n",
      "<<<<---->>>>\n",
      " \n",
      "See you next time.\n"
     ]
    }
   ],
   "source": [
    "while True:\n",
    "    num_input = input(\"Please input your number: \")\n",
    "    \n",
    "    if num_input.lower() == \"no\":\n",
    "        print(\"\\nThanks for using our Even/Odd checking service. :) \\n\\n<<<<---->>>>\\n \\nSee you next time.\")\n",
    "        break\n",
    "    \n",
    "    num = int(num_input)\n",
    "    \n",
    "    if num % 2 == 0 :\n",
    "        print(num_input + \" is even number.\\n\")\n",
    "    else:\n",
    "        print(num_input + \" is odd number.\\n\")\n",
    "    \n",
    "    print(\"Type no if you want to quit:\\n\")"
   ]
  },
  {
   "cell_type": "code",
   "execution_count": 3,
   "metadata": {},
   "outputs": [
    {
     "name": "stdout",
     "output_type": "stream",
     "text": [
      "5\n"
     ]
    }
   ],
   "source": [
    "list_1 = [\"shehzad\", \"ali\" , \"qadri\" , \"karachi\" , \"1992\"]\n",
    "\n",
    "print(len(list_1))"
   ]
  },
  {
   "cell_type": "code",
   "execution_count": 4,
   "metadata": {},
   "outputs": [
    {
     "name": "stdout",
     "output_type": "stream",
     "text": [
      "45\n"
     ]
    }
   ],
   "source": [
    "list_1 = [1 , 2, 3, 4, 5, 6, 7, 8, 9]\n",
    "sum = 0\n",
    "for i in list_1:\n",
    "    sum += i\n",
    "print(sum)"
   ]
  },
  {
   "cell_type": "code",
   "execution_count": 5,
   "metadata": {},
   "outputs": [
    {
     "name": "stdout",
     "output_type": "stream",
     "text": [
      "9\n"
     ]
    }
   ],
   "source": [
    "list_2 = [1 , 2, 3, 4, 5, 6, 7, 8, 9]\n",
    "print(max(list_2))"
   ]
  },
  {
   "cell_type": "code",
   "execution_count": 6,
   "metadata": {},
   "outputs": [
    {
     "name": "stdout",
     "output_type": "stream",
     "text": [
      "1\n",
      "1\n",
      "2\n",
      "3\n",
      "5\n"
     ]
    }
   ],
   "source": [
    "list_3 = [ 1, 1, 2, 3, 5, 8, 13, 21, 34, 55, 89]\n",
    "for i in list_3:\n",
    "    print(i)\n",
    "    if i == 5:\n",
    "        break"
   ]
  },
  {
   "cell_type": "code",
   "execution_count": null,
   "metadata": {},
   "outputs": [],
   "source": []
  }
 ],
 "metadata": {
  "kernelspec": {
   "display_name": "Python 3",
   "language": "python",
   "name": "python3"
  },
  "language_info": {
   "codemirror_mode": {
    "name": "ipython",
    "version": 3
   },
   "file_extension": ".py",
   "mimetype": "text/x-python",
   "name": "python",
   "nbconvert_exporter": "python",
   "pygments_lexer": "ipython3",
   "version": "3.7.4"
  }
 },
 "nbformat": 4,
 "nbformat_minor": 2
}
